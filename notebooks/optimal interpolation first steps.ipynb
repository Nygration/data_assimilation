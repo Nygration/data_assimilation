{
 "cells": [
  {
   "cell_type": "code",
   "execution_count": 2,
   "metadata": {
    "collapsed": true
   },
   "outputs": [],
   "source": [
    "import numpy as np\n",
    "import matplotlib.pyplot as plt\n",
    "\n",
    "%matplotlib inline"
   ]
  },
  {
   "cell_type": "code",
   "execution_count": 28,
   "metadata": {
    "collapsed": false
   },
   "outputs": [
    {
     "data": {
      "text/plain": [
       "[<matplotlib.lines.Line2D at 0x1095e15c0>]"
      ]
     },
     "execution_count": 28,
     "metadata": {},
     "output_type": "execute_result"
    },
    {
     "data": {
      "image/png": "[encoded data removed]",
      "text/plain": [
       "<matplotlib.figure.Figure at 0x1095e18d0>"
      ]
     },
     "metadata": {},
     "output_type": "display_data"
    }
   ],
   "source": [
    "N_obs = 100\n",
    "obs_std = 0.1\n",
    "back_std = np.sqrt(0.5)\n",
    "back_radius = 0.1\n",
    "\n",
    "def truth(x):\n",
    "    return np.sin(x*2*np.pi)\n",
    "\n",
    "x_obs = np.random.rand(N_obs)\n",
    "f_obs = truth(x_obs) + obs_std*np.random.randn(N_obs)\n",
    "\n",
    "plt.plot(x_obs, f_obs, 'ko')\n",
    "x = np.linspace(0, 1, 1001)\n",
    "plt.plot(x, truth(x), 'b--')"
   ]
  },
  {
   "cell_type": "code",
   "execution_count": 15,
   "metadata": {
    "collapsed": false
   },
   "outputs": [],
   "source": [
    "# Observation Error Covariance Matrix\n",
    "O = obs_std**2 * np.eye(N_obs)"
   ]
  },
  {
   "cell_type": "code",
   "execution_count": 30,
   "metadata": {
    "collapsed": false
   },
   "outputs": [],
   "source": [
    "# Background Error Covariance Matrix at observation points\n",
    "dist2 = (x[:,np.newaxis] - x[np.newaxis,:])**2\n",
    "B = back_std**2*np.exp(-dist2/back_radius**2)"
   ]
  },
  {
   "cell_type": "code",
   "execution_count": 31,
   "metadata": {
    "collapsed": false
   },
   "outputs": [
    {
     "data": {
      "text/plain": [
       "array([[  5.00000000e-01,   4.99950002e-01,   4.99800040e-01, ...,\n",
       "          2.77374089e-44,   2.27162835e-44,   1.86003799e-44],\n",
       "       [  4.99950002e-01,   5.00000000e-01,   4.99950002e-01, ...,\n",
       "          3.38616127e-44,   2.77374089e-44,   2.27162835e-44],\n",
       "       [  4.99800040e-01,   4.99950002e-01,   5.00000000e-01, ...,\n",
       "          4.13297262e-44,   3.38616127e-44,   2.77374089e-44],\n",
       "       ..., \n",
       "       [  2.77374089e-44,   3.38616127e-44,   4.13297262e-44, ...,\n",
       "          5.00000000e-01,   4.99950002e-01,   4.99800040e-01],\n",
       "       [  2.27162835e-44,   2.77374089e-44,   3.38616127e-44, ...,\n",
       "          4.99950002e-01,   5.00000000e-01,   4.99950002e-01],\n",
       "       [  1.86003799e-44,   2.27162835e-44,   2.77374089e-44, ...,\n",
       "          4.99800040e-01,   4.99950002e-01,   5.00000000e-01]])"
      ]
     },
     "execution_count": 31,
     "metadata": {},
     "output_type": "execute_result"
    }
   ],
   "source": [
    "B"
   ]
  },
  {
   "cell_type": "code",
   "execution_count": null,
   "metadata": {
    "collapsed": true
   },
   "outputs": [],
   "source": []
  }
 ],
 "metadata": {
  "kernelspec": {
   "display_name": "Python 3",
   "language": "python",
   "name": "python3"
  },
  "language_info": {
   "codemirror_mode": {
    "name": "ipython",
    "version": 3
   },
   "file_extension": ".py",
   "mimetype": "text/x-python",
   "name": "python",
   "nbconvert_exporter": "python",
   "pygments_lexer": "ipython3",
   "version": "3.4.3"
  }
 },
 "nbformat": 4,
 "nbformat_minor": 0
}
